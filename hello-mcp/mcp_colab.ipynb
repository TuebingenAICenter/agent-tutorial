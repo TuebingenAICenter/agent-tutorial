{
    "cells": [
        {
            "cell_type": "markdown",
            "id": "7f92d703",
            "metadata": {},
            "source": [
                "## Environment Setup\n",
                "\n",
                "```{note}\n",
                "For the MCP session, we will be working on `.py` files and the terminal, not notebooks.\n",
                "```\n",
                "\n",
                "Run this Colab to setup the environment, and then open up the file\n"
            ]
        },
        {
            "cell_type": "code",
            "execution_count": null,
            "id": "9bfcc8a4",
            "metadata": {
                "vscode": {
                    "languageId": "shellscript"
                }
            },
            "outputs": [],
            "source": [
                "%%bash\n",
                "\n",
                "# Check if the environment variable exists\n",
                "if [ -n \"$COLAB_RELEASE_TAG\" ] || [ -n \"$COLAB_GPU\" ]; then\n",
                "    echo \"Running on Google Colab. Cloning repository into temp folder...\"\n",
                "    git clone https://github.com/TuebingenAICenter/agent-tutorial.git /tmp/tmp_repo\n",
                "    echo \"Moving all helpers to project root...\"\n",
                "    mv /tmp/tmp_repo/images .\n",
                "    mv /tmp/tmp_repo/hello-mcp .\n",
                "    mv /tmp/tmp_repo/env.example ./.env\n",
                "    mv /tmp/tmp_repo/requirements.txt .\n",
                "else\n",
                "    echo \"Not running on Google Colab. Skipping git clone.\"\n",
                "fi\n",
                "\n",
                "# The installation block runs regardless of environment.\n",
                "echo \"Checking for requirements.txt and installing required packages...\"\n",
                "\n",
                "# Check if requirements.txt exists in the current directory\n",
                "if [ -f \"requirements.txt\" ]; then\n",
                "    # Attempt to install with 'uv', and if it fails (exit code != 0), use 'pip' as a fallback.\n",
                "    if command -v uv &> /dev/null; then\n",
                "        echo \"uv detected. Installing with uv...\"\n",
                "        uv pip install -r requirements.txt\n",
                "    else\n",
                "        echo \"Installing with pip...\"\n",
                "        pip install -r requirements.txt\n",
                "    fi\n",
                "else\n",
                "    echo \"ERROR! requirements.txt not found! Please check for errors...\"\n",
                "fi"
            ]
        },
        {
            "cell_type": "markdown",
            "id": "b556406f",
            "metadata": {},
            "source": [
                "----\n",
                "Once the setup is done, \n",
                "- open up a terminal in another pane/tab \n",
                "    ```bash\n",
                "    export OPENROUTER_API_KEY=\"your_key_here\" # OPTIONAL\n",
                "    cd ./hello-mcp\n",
                "    # Run the MCP host with the configuration file\n",
                "    mcphost --config ./mcp_config.json\n",
                "    ```"
            ]
        },
        {
            "cell_type": "markdown",
            "id": "93104901",
            "metadata": {},
            "source": []
        }
    ],
    "metadata": {
        "kernelspec": {
            "display_name": "agent-tutorial-dev",
            "language": "python",
            "name": "python3"
        },
        "language_info": {
            "codemirror_mode": {
                "name": "ipython",
                "version": 3
            },
            "file_extension": ".py",
            "mimetype": "text/x-python",
            "name": "python",
            "nbconvert_exporter": "python",
            "pygments_lexer": "ipython3",
            "version": "3.12.3"
        }
    },
    "nbformat": 4,
    "nbformat_minor": 5
}
