{
    "cells": [
        {
            "cell_type": "markdown",
            "id": "83963fa0",
            "metadata": {},
            "source": [
                "## Environment Setup\n",
                "For Colab, the helper folders need to be copied over from the repo. The below cell does this automatically."
            ]
        },
        {
            "cell_type": "code",
            "execution_count": null,
            "id": "fb056c9a",
            "metadata": {},
            "outputs": [],
            "source": [
                "%%bash\n",
                "\n",
                "# Check if the environment variable exists\n",
                "if [ -n \"$COLAB_RELEASE_TAG\" ] || [ -n \"$COLAB_GPU\" ]; then\n",
                "    echo \"Running on Google Colab. Cloning repository into temp folder...\"\n",
                "    git clone https://github.com/TuebingenAICenter/agent-tutorial.git /tmp/tmp_repo\n",
                "    echo \"Moving all helpers to project root...\"\n",
                "    mv /tmp/tmp_repo/chat_with_X_utils .\n",
                "    mv /tmp/tmp_repo/images .\n",
                "    mv /tmp/tmp_repo/hello-mcp .\n",
                "    mv /tmp/tmp_repo/env.example ./.env\n",
                "    mv /tmp/tmp_repo/requirements.txt .\n",
                "else\n",
                "    echo \"Not running on Google Colab. Skipping git clone.\"\n",
                "fi\n",
                "\n",
                "# The installation block runs regardless of environment.\n",
                "echo \"Checking for requirements.txt and installing required packages...\"\n",
                "\n",
                "# Check if requirements.txt exists in the current directory\n",
                "if [ -f \"requirements.txt\" ]; then\n",
                "    # Attempt to install with 'uv', and if it fails (exit code != 0), use 'pip' as a fallback.\n",
                "    if command -v uv &> /dev/null; then\n",
                "        echo \"uv detected. Installing with uv...\"\n",
                "        uv pip install -r requirements.txt\n",
                "    else\n",
                "        echo \"Installing with pip...\"\n",
                "        pip install -r requirements.txt\n",
                "    fi\n",
                "else\n",
                "    echo \"ERROR! requirements.txt not found! Please check for errors...\"\n",
                "fi"
            ]
        },
        {
            "cell_type": "markdown",
            "id": "6b6468c9",
            "metadata": {},
            "source": [
                "### Setting API Keys"
            ]
        },
        {
            "cell_type": "code",
            "execution_count": null,
            "id": "da96ddbb",
            "metadata": {},
            "outputs": [],
            "source": [
                "import dotenv\n",
                "import os\n",
                "from getpass import getpass\n",
                "\n",
                "# Load environment variables from a .env file if it exists\n",
                "dotenv.load_dotenv()\n",
                "\n",
                "# Prompt for the API key if it's not already set\n",
                "for var in [\"OPENROUTER_API_KEY\"]:\n",
                "    if  var not in os.environ:\n",
                "            os.environ[var] = getpass(\n",
                "                f\"Enter your {var.replace('_', ' ')}: \"\n",
                "            )\n",
                "            \n",
                "if not os.environ[\"OPENROUTER_API_KEY\"]:\n",
                "    print(\"WARNING: API key not set.\")\n",
                "\n",
                "\n",
                "TAVILY_API_KEY = os.getenv(\"TAVILY_API_KEY\", \"\")\n",
                "if not TAVILY_API_KEY:\n",
                "    print(\"INFO: TAVILY_API_KEY not set; web search tool will be disabled.\")\n",
                "else:\n",
                "    HAS_TAVILY = True\n",
                "    try:\n",
                "        from tavily import TavilyClient\n",
                "        tavily = TavilyClient(api_key=TAVILY_API_KEY)\n",
                "    except Exception:\n",
                "        HAS_TAVILY = False"
            ]
        },
        {
            "cell_type": "markdown",
            "id": "5dda21ce",
            "metadata": {},
            "source": [
                "# LangGraph + MCP Deep-Research Agent\n",
                "\n",
                "Let's integrate everything we've seen so far into a final example: Deep Research Agent\n",
                "\n",
                "**What:** example to show how to\n",
                "\n",
                "- use MCP tools in LangGraph\n",
                "\n",
                "- scale up orchestration/architecture complexity\n",
                "\n",
                "**Why:** Gives you all the necessary information you need to build agents of such scales yourself *including* MCP\n",
                "\n",
                "**Live:** Follow along and fill in some key lines for the main lessons: `Send` API, Structured Outputs, passing in arguments through the configurable."
            ]
        },
        {
            "cell_type": "markdown",
            "id": "a34fb52d",
            "metadata": {},
            "source": [
                "## What we plan to create"
            ]
        },
        {
            "cell_type": "markdown",
            "id": "756634aa",
            "metadata": {},
            "source": [
                "<img src=\"./images/Agent_03_diagram.png\">"
            ]
        },
        {
            "cell_type": "markdown",
            "id": "2efc5355",
            "metadata": {},
            "source": [
                "## What it looks like in LangGraph"
            ]
        },
        {
            "cell_type": "markdown",
            "id": "4206dc6b",
            "metadata": {},
            "source": [
                "<img src=\"./images/Agent_03_lg.png\">"
            ]
        },
        {
            "cell_type": "markdown",
            "id": "70124537",
            "metadata": {},
            "source": [
                "## Setup"
            ]
        },
        {
            "cell_type": "code",
            "execution_count": null,
            "id": "509811c3",
            "metadata": {},
            "outputs": [],
            "source": [
                "# Imports and helpers\n",
                "from typing import TypedDict, Annotated, List, Dict, Optional\n",
                "import pathlib as _pl\n",
                "import re as _re\n",
                "from operator import add as _list_add\n",
                "import asyncio\n",
                "\n",
                "\n",
                "from langchain_core.messages import HumanMessage, AIMessage, SystemMessage, BaseMessage, ToolMessage\n",
                "from langchain_core.rate_limiters import InMemoryRateLimiter \n",
                "from langchain_core.runnables import RunnableConfig\n",
                "from langchain_core.tools import tool\n",
                "from langchain_mcp_adapters.client import MultiServerMCPClient\n",
                "from langchain_mcp_adapters.tools import load_mcp_tools\n",
                "from langchain_openai import ChatOpenAI\n",
                "from langgraph.checkpoint.memory import MemorySaver\n",
                "from langgraph.graph import StateGraph, START, END\n",
                "from langgraph.graph.message import add_messages\n",
                "from langgraph.prebuilt import ToolNode\n",
                "from langgraph.types import Send\n",
                "\n",
                "from pydantic import BaseModel, Field \n",
                "\n",
                "# Local utils\n",
                "# Ensure we pick up latest print utils implementation\n",
                "import importlib as _imp\n",
                "import chat_with_X_utils.print_utils as _print_utils_mod\n",
                "_imp.reload(_print_utils_mod)\n",
                "from chat_with_X_utils.print_utils import (\n",
                "    print_messages_from_stream_event as _print_messages_from_stream_event,\n",
                "    print_messages_from_state as _print_messages_from_state,\n",
                ")"
            ]
        },
        {
            "cell_type": "markdown",
            "id": "12cd189a",
            "metadata": {},
            "source": [
                "### Logging utils"
            ]
        },
        {
            "cell_type": "code",
            "execution_count": 49,
            "id": "0b0115d3",
            "metadata": {},
            "outputs": [],
            "source": [
                "# Output paths\n",
                "OUTPUT_DIR = _pl.Path(\"research_output\")\n",
                "SUBAGENTS_DIR = OUTPUT_DIR / \"subagents\"\n",
                "\n",
                "\n",
                "def _slugify(text: str) -> str:\n",
                "    text = _re.sub(r\"[^a-zA-Z0-9\\-_. ]+\", \" \", text).strip().lower()\n",
                "    text = _re.sub(r\"\\s+\", \"-\", text)\n",
                "    return text[:80] or \"item\"\n",
                "\n",
                "def _ensure_dirs():\n",
                "    OUTPUT_DIR.mkdir(parents=True, exist_ok=True)\n",
                "    SUBAGENTS_DIR.mkdir(parents=True, exist_ok=True)\n",
                "\n",
                "def _pretty_messages_trace(messages: List[BaseMessage]) -> str:\n",
                "    lines: List[str] = []\n",
                "    for m in messages or []:\n",
                "        role = m.__class__.__name__.replace(\"Message\", \"\").upper()\n",
                "        # Decorate tool message role with tool name if available\n",
                "        if isinstance(m, ToolMessage):\n",
                "            tool_name = getattr(m, \"name\", \"\") or getattr(m, \"tool_name\", \"\") or \"\"\n",
                "            role = f\"TOOL[{tool_name}]\"\n",
                "        # Summarize tool calls from assistant turns\n",
                "        if isinstance(m, AIMessage) and getattr(m, \"tool_calls\", None):\n",
                "            for i, tc in enumerate(m.tool_calls, 1):\n",
                "                try:\n",
                "                    name = getattr(tc, \"name\", None) or (tc.get(\"name\") if isinstance(tc, dict) else \"\")\n",
                "                except Exception:\n",
                "                    name = \"\"\n",
                "                try:\n",
                "                    args = getattr(tc, \"args\", None) or (tc.get(\"args\") if isinstance(tc, dict) else {})\n",
                "                except Exception:\n",
                "                    args = {}\n",
                "                lines.append(f\"{role} tool_call[{i}]: {name} args={args}\")\n",
                "        content = getattr(m, \"content\", \"\")\n",
                "        if content:\n",
                "            lines.append(f\"{role}: {content}\")\n",
                "    return \"\\n\".join(lines)\n",
                "def _extract_subquestion_from_composed(text: str) -> str:\n",
                "    \"\"\"Extract only the sub-question from a composed question string.\n",
                "\n",
                "    Expected composed format: \"Main question: ...\\nSub-question: ...\"\n",
                "    Falls back to the full text if no sub-question marker is found.\n",
                "    \"\"\"\n",
                "    if not isinstance(text, str) or not text:\n",
                "        return \"\"\n",
                "    # Try strict line-based parse first\n",
                "    for line in text.splitlines():\n",
                "        if line.strip().lower().startswith(\"sub-question:\"):\n",
                "            return line.split(\":\", 1)[-1].strip()\n",
                "    # Fallback: regex anywhere\n",
                "    m = _re.search(r\"Sub-question:\\s*(.+)\", text, flags=_re.IGNORECASE | _re.DOTALL)\n",
                "    if m:\n",
                "        return m.group(1).strip()\n",
                "    return text.strip()\n",
                "\n",
                "def _subagent_log_path(question: str) -> _pl.Path:  # type: ignore[override]\n",
                "    \"\"\"Return the log file path for a sub-agent using only the sub-question (no timestamp).\"\"\"\n",
                "    sub_q = _extract_subquestion_from_composed(question)\n",
                "    slug = _slugify(sub_q)[:60]\n",
                "    return SUBAGENTS_DIR / f\"{slug}.log\""
            ]
        },
        {
            "cell_type": "markdown",
            "id": "93c5b8f7",
            "metadata": {},
            "source": [
                "### Clearing the logs before another run"
            ]
        },
        {
            "cell_type": "code",
            "execution_count": 50,
            "id": "5c239c34",
            "metadata": {},
            "outputs": [
                {
                    "name": "stdout",
                    "output_type": "stream",
                    "text": [
                        "Cleared and recreated output folder: /home/linus/git/agent-tutorial-dev/research_output\n"
                    ]
                }
            ],
            "source": [
                "import shutil as _sh\n",
                "try:\n",
                "    if OUTPUT_DIR.exists():\n",
                "        _sh.rmtree(OUTPUT_DIR)\n",
                "    _ensure_dirs()\n",
                "    print(f\"Cleared and recreated output folder: {OUTPUT_DIR.resolve()}\")\n",
                "except Exception as e:\n",
                "    print(f\"WARN: Failed to reset output folder: {e}\")"
            ]
        },
        {
            "cell_type": "markdown",
            "id": "a8a6ff88",
            "metadata": {},
            "source": [
                "### Setting up language models"
            ]
        },
        {
            "cell_type": "code",
            "execution_count": null,
            "id": "512f3686",
            "metadata": {},
            "outputs": [],
            "source": [
                "# LLM config\n",
                "\n",
                "# Rate limiting: define per-model in-memory limiters\n",
                "# 4.1 and 4.1-mini both allow up to 500 requests per minute (RPM). We enforce a lower bound to account for TKM limits as well.\n",
                "RPS_41 = 500 / 120.0\n",
                "RPS_41_MINI = 500 / 60.0  # higher TPM applies to token budgets, not requests.\n",
                "_RATE_CHECK_EVERY = 0.1  # seconds\n",
                "_BURST = 10  # allow short bursts; adjust to taste\n",
                "\n",
                "limiter_41 = InMemoryRateLimiter(requests_per_second=RPS_41, check_every_n_seconds=_RATE_CHECK_EVERY, max_bucket_size=_BURST)\n",
                "limiter_41_mini = InMemoryRateLimiter(requests_per_second=RPS_41_MINI, check_every_n_seconds=_RATE_CHECK_EVERY, max_bucket_size=_BURST)\n",
                "\n",
                "llm = ChatOpenAI(\n",
                "    model=\"gpt-4.1-mini-2025-04-14\",\n",
                "    temperature=0.0,\n",
                "    base_url=\"https://openrouter.ai/api/v1\",\n",
                "    api_key=os.environ[\"OPENROUTER_API_KEY\"],\n",
                "    rate_limiter=limiter_41_mini,  # enforce 500 RPM on the mini model\n",
                ")\n",
                "\n",
                "# Use a stronger model and bigger token budget for synthesis by default\n",
                "synthesis_llm = ChatOpenAI(\n",
                "    model=\"gpt-4.1-2025-04-14\",\n",
                "    temperature=0.2,\n",
                "    base_url=\"https://openrouter.ai/api/v1\",\n",
                "    api_key=os.environ[\"OPENROUTER_API_KEY\"],\n",
                "    max_tokens=4000,\n",
                "    rate_limiter=limiter_41,  # enforce 500 RPM on the 4.1 model\n",
                ")\n",
                "\n"
            ]
        },
        {
            "cell_type": "markdown",
            "id": "b923a3e5",
            "metadata": {},
            "source": [
                "## Tools\n",
                "\n",
                "### Langgraph Tool: web search [Optional]\n"
            ]
        },
        {
            "cell_type": "code",
            "execution_count": null,
            "id": "fd5dbaf2",
            "metadata": {},
            "outputs": [],
            "source": [
                "if HAS_TAVILY:\n",
                "    @tool(parse_docstring=True)\n",
                "    def web_search(query: str, max_results: int = 5) -> str:\n",
                "        \"\"\"Search the web with Tavily and return a compact digest of results.\n",
                "\n",
                "        Args:\n",
                "            query: Natural language query to search for on the web.\n",
                "            max_results: Maximum number of results to include (default 5).\n",
                "\n",
                "        Returns:\n",
                "            A multi-line string listing result titles, URLs, and brief snippets.\n",
                "        \"\"\"\n",
                "        try:\n",
                "            data = tavily.search(query=query, max_results=max_results)\n",
                "            items = data.get(\"results\", [])\n",
                "            if not items:\n",
                "                return \"No results found.\"\n",
                "            lines = []\n",
                "            for i, it in enumerate(items, 1):\n",
                "                title = it.get(\"title\", \"\")\n",
                "                url = it.get(\"url\", \"\")\n",
                "                snippet = it.get(\"content\", \"\")\n",
                "                lines.append(f\"[{i}] {title}\\n{url}\\n{snippet}\\n\")\n",
                "            return \"\\n\".join(lines)\n",
                "        except Exception as e:\n",
                "            return f\"Web search error: {e}\"\n",
                "else:\n",
                "    def web_search(*args, **kwargs):\n",
                "        return \"Web search disabled (no TAVILY_API_KEY).\""
            ]
        },
        {
            "cell_type": "markdown",
            "id": "4e0786e2",
            "metadata": {},
            "source": [
                "### MCP Tool: Filesystem RAG server"
            ]
        },
        {
            "cell_type": "markdown",
            "id": "7f566367",
            "metadata": {},
            "source": [
                "Langgraph provides a simple wrapper [`MultiServerMCPClient`](https://langchain-ai.github.io/langgraph/reference/mcp/) for integrating multiple MCP servers into workflows"
            ]
        },
        {
            "cell_type": "code",
            "execution_count": null,
            "id": "b636c0df",
            "metadata": {},
            "outputs": [],
            "source": [
                "from chat_with_X_utils.async_mcp_helper import MCPManager\n",
                "\n",
                "# Use the MCP server config from the previous session\n",
                "server_name = \"filesystem_rag\"  \n",
                "mcp_config = {\n",
                "    server_name: {\n",
                "      \"command\": \"uv\",\n",
                "      \"args\": [\n",
                "        \"run\",\n",
                "        \"./hello-mcp/filesystem_rag/server_solution.py\",\n",
                "        \"--directory=/tmp/filesystem_rag/\"\n",
                "      ],\n",
                "      \"transport\": \"stdio\"\n",
                "    },\n",
                "    # It's possible to define multiple servers here and connect to them by name\n",
                "}\n",
                "\n",
                "mcp_client = MultiServerMCPClient(mcp_config)\n",
                "\n",
                "manager = MCPManager(mcp_client)\n",
                "\n",
                "# Start the MCP session and load the tools into Langgraph Tools\n",
                "session, rag_server_tools = await manager.start_session(server_name)"
            ]
        },
        {
            "cell_type": "code",
            "execution_count": null,
            "id": "cd726dcc",
            "metadata": {},
            "outputs": [],
            "source": [
                "rag_server_tools"
            ]
        },
        {
            "cell_type": "markdown",
            "id": "037ef7a4",
            "metadata": {},
            "source": [
                "## Sub-research agent"
            ]
        },
        {
            "attachments": {
                "Agent_03_sub_agent_diagram.png": {
                    "image/png": "[encoded data removed]"
                }
            },
            "cell_type": "markdown",
            "id": "f5dc17b2",
            "metadata": {},
            "source": [
                "![Agent_03_sub_agent_diagram.png](attachment:Agent_03_sub_agent_diagram.png)"
            ]
        },
        {
            "cell_type": "markdown",
            "id": "10f2080b",
            "metadata": {},
            "source": [
                "### [State](https://langchain-ai.github.io/langgraph/concepts/low_level/#state)\n",
                "\n",
                "The subresearcher state contains the following:\n",
                "- The `sub-question` it should research.\n",
                "- The `iteration` of research it is currently in, so that we can check against max_sub_iterations.\n",
                "- The `sub_researcher_messages` for communication between all the LLM calls in our nodes.\n",
                "- The `sub_reports` for handing the sub-researcher reports over to the supervisor. Note that this key needs to match the supervisors state and is thus is a list, which at the end of the sub-researcher call only contains a single element."
            ]
        },
        {
            "cell_type": "code",
            "execution_count": null,
            "id": "353d336e",
            "metadata": {},
            "outputs": [],
            "source": [
                "from re import sub\n",
                "\n",
                "\n",
                "class SubResearchState(TypedDict):\n",
                "    question: str\n",
                "    iteration: int\n",
                "    sub_researcher_messages: Annotated[List[BaseMessage], add_messages]\n",
                "    sub_reports: List[str]"
            ]
        },
        {
            "cell_type": "markdown",
            "id": "403aaad1",
            "metadata": {},
            "source": [
                "### Nodes\n",
                "\n",
                "We have the following nodes:\n",
                "- `gather_context`: Prompts the LLM to gather context on the sub-question and provide the appropriate tool calls, this uses the llm with access to the tools. The prompt is slightly different depending on the iteration (first iteration vs later iterations). Writes the tool calls to the `sub_researcher_messages` state key.\n",
                "\n",
                "- `tools`: A simple ToolNode containing the research tools. Writes the tool outputs to the `sub_researcher_messages` state key as context for the writer.\n",
                "\n",
                "- `write_section`: Prompts the LLM to write a section based on the gathered context, this uses the llm without access to the tools. Writes the written section to the `sub_researcher_messages` state key. It also increments the `iteration` state key by 1.\n",
                "\n",
                "- `summarize_answer`: Prompts the LLM to summarize the findings and provide a final answer to the sub-question, this uses the llm without access to the tools. Writes the final report to the `sub_reports` state key, which is a list in order to work with the supervisors reducer for the same key.\n"
            ]
        },
        {
            "cell_type": "code",
            "execution_count": null,
            "id": "dc566d2d",
            "metadata": {},
            "outputs": [
                {
                    "data": {
                        "text/plain": [
                            "<langgraph.graph.state.StateGraph at 0x78164e0c4bc0>"
                        ]
                    },
                    "execution_count": 54,
                    "metadata": {},
                    "output_type": "execute_result"
                }
            ],
            "source": [
                "# Build subgraph\n",
                "sub_researcher_design_graph = StateGraph(SubResearchState)\n",
                "sub_researcher_design_graph.add_node(\"gather\", gather_context)\n",
                "# TODO add a ToolNode called \"tools\" that uses RESEARCH_TOOLS and has the correct messages_key set for the sub-researcher messages\n",
                "sub_researcher_design_graph.add_node...\n",
                "sub_researcher_design_graph.add_node(\"write\", write_section)\n",
                "sub_researcher_design_graph.add_node(\"summarize\", summarize_answer)"
            ]
        },
        {
            "cell_type": "markdown",
            "id": "aeca4bbc",
            "metadata": {},
            "source": [
                "### Edges\n",
                "\n",
                "The regular edges are:\n",
                "- `START` -> `gather_context`\n",
                "- `gather_context` -> `tools`\n",
                "- `tools` -> `write_section`\n",
                "- `summarize_answer` -> `END`\n",
                "\n",
                "The conditional edge `router_after_write` utilizes a routing function to decide whether to go back to `gather_context` or proceed to `summarize_answer` based on:\n",
                "1. The current iteration and the `max_sub_iterations` configurable parameter. If it exceeds the maximum, the function will route to `summarize_answer`.\n",
                "2. An LLM based router that evaluates the completeness of the research conducted so far and decides whether more information is needed or if it's time to summarize the findings.\n",
                "\n",
                "The router utilizes LangChain's [`with_structured_output` method with a pydantic class](https://python.langchain.com/docs/how_to/structured_output/#pydantic-class) with the pattern `^(more|enough)$` to ensure that the output matches the expected format and can be parsed correctly."
            ]
        },
        {
            "cell_type": "code",
            "execution_count": null,
            "id": "c3b46f3e",
            "metadata": {},
            "outputs": [],
            "source": [
                "# Model for structured output decision\n",
                "class WriteRoutingDecision(BaseModel):\n",
                "    \"\"\"Decision after a write iteration: whether to gather more or summarize.\"\"\"\n",
                "    decision: str = Field(description=\"'more' to gather more; 'enough' to summarize\", pattern=\"^(more|enough)$\")\n",
                "\n",
                "_write_decider = llm.with_structured_output(WriteRoutingDecision)\n",
                "\n",
                "# Routing after writing: either gather more (loop to tools) or summarize\n",
                "def route_after_write(state: SubResearchState, config: Dict):\n",
                "    it = state.get(\"iteration\", 0)\n",
                "    sub_question = state.get(\"question\", \"\")\n",
                "    max_iter = config.get(\"configurable\", {}).get(\"max_sub_iterations\", 4)\n",
                "    if it >= max_iter:\n",
                "        return \"summarize\"\n",
                "\n",
                "    judge_system = f\"\"\"\n",
                "        You are a research completeness evaluator.\n",
                "\n",
                "        Evaluate if the current research adequately addresses the sub-question.\n",
                "\n",
                "        Return decision='more' if ANY of these are true:\n",
                "        - Missing critical perspectives or stakeholders\n",
                "        - Lack of quantitative data or specific examples\n",
                "        - No discussion of limitations or potential failures\n",
                "        - Insufficient evidence for main claims (< 3 citations for key points)\n",
                "        - No recent sources (everything pre-2023) for contemporary topics\n",
                "        - Missing implementation details or practical applications\n",
                "        - No contradictory evidence or alternative viewpoints examined\n",
                "        - Geographic or demographic gaps in coverage\n",
                "        - Insufficient depth or mostly surface-level analysis\n",
                "\n",
                "        Return decision='enough' if ALL of these are satisfied:\n",
                "        - Multiple credible sources support each major claim\n",
                "        - Both supporting and contradicting evidence examined\n",
                "        - Specific examples, data points, or case studies included\n",
                "        - Practical implications clearly explained\n",
                "        - Reasonable depth achieved (600+ words of substantive content)\n",
                "        - No major logical gaps in the argumentation\n",
                "        - Diminishing returns likely from additional searches\n",
                "\n",
                "        Sub-question: {sub_question}\n",
                "        Completed iterations: {it}\n",
                "\n",
                "        Answer only with the structured field 'decision'.\n",
                "    \"\"\"\n",
                "\n",
                "    prior_messages = state.get(\"sub_researcher_messages\", []) or []\n",
                "    result = _write_decider.invoke([\n",
                "        SystemMessage(content=judge_system),\n",
                "        *prior_messages,\n",
                "]) or None\n",
                "    decision = (result.decision if result else \"more\").strip().lower()\n",
                "    # TODO: Route to \"gather\" node if the decision is 'more' and \"summarize\" node if it's 'enough'\n",
                "    return \n",
                "\n",
                "sub_researcher_design_graph.add_edge(START, \"gather\")\n",
                "sub_researcher_design_graph.add_edge(\"gather\", \"tools\")\n",
                "sub_researcher_design_graph.add_edge(\"tools\", \"write\")\n",
                "sub_researcher_design_graph.add_conditional_edges(\n",
                "    \"write\",\n",
                "    route_after_write,\n",
                "    [\"gather\", \"summarize\"],\n",
                ")\n",
                "sub_researcher_design_graph.add_edge(\"summarize\", END)\n",
                "\n",
                "# TODO: compile the sub-researcher design graph\n",
                "sub_researcher_compiled_graph = sub_researcher_design_graph.compile()"
            ]
        },
        {
            "cell_type": "markdown",
            "id": "d878855e",
            "metadata": {},
            "source": [
                "## Supervisor agent"
            ]
        },
        {
            "attachments": {
                "Agent_03_supervisor_diagram.png": {
                    "image/png": "[encoded data removed]"
                }
            },
            "cell_type": "markdown",
            "id": "e6184221",
            "metadata": {},
            "source": [
                "![Agent_03_supervisor_diagram.png](attachment:Agent_03_supervisor_diagram.png)"
            ]
        },
        {
            "cell_type": "markdown",
            "id": "90670432",
            "metadata": {},
            "source": [
                "### State\n",
                "\n",
                "The supervisor's state contains the following:\n",
                "- The `supervisor_messages` for communication between all the LLM calls in our nodes.\n",
                "- The `sub_questions` it fans out to the sub-researchers.\n",
                "- The `sub_reports` for collecting the reports from the sub-researchers.\n",
                "\n",
                "Note that we don't have a final answer state key, as that is directly written to the `research_report.md` file."
            ]
        },
        {
            "cell_type": "code",
            "execution_count": 56,
            "id": "0d6a6c7b",
            "metadata": {},
            "outputs": [],
            "source": [
                "class SupervisorState(TypedDict):\n",
                "    supervisor_messages: Annotated[List[BaseMessage], add_messages]\n",
                "    sub_questions: List[str]\n",
                "    sub_reports: Annotated[List[str], _list_add]"
            ]
        },
        {
            "cell_type": "markdown",
            "id": "a78cda1a",
            "metadata": {},
            "source": [
                "### Nodes\n",
                "\n",
                "We have the following nodes:\n",
                "- `supervisor_chat`: A simple chat node that co-develops the users question and associated sub-questions with the user. It writes the messages to the `supervisor_messages` state key.\n",
                "- `prepare_plan`: Extracts the sub-questions from the chat and presents them to the user for approval. It writes the sub-questions to the `sub_questions` state key and writes the presentation to the `supervisor_messages` state key.\n",
                "- `sub_researcher`: A subgraph node containing the sub-researcher agent described above. It takes in the `question` to research and writes the report to the `sub_reports` state key.\n",
                "- `synthesize_report`: Prompts the LLM to synthesize the final report based on the collected sub-reports. It writes the final report to a `research_report.md` file and the anouncement that it has been written to the `supervisor_messages` state key.\n",
                "\n",
                "The `prepare_plan` node uses the `with_structured_output` method to ensure a list is provided."
            ]
        },
        {
            "cell_type": "code",
            "execution_count": null,
            "id": "6307b6c2",
            "metadata": {},
            "outputs": [
                {
                    "data": {
                        "text/plain": [
                            "<langgraph.graph.state.StateGraph at 0x78164817ee40>"
                        ]
                    },
                    "execution_count": 57,
                    "metadata": {},
                    "output_type": "execute_result"
                }
            ],
            "source": [
                "class SubQuestionPlan(BaseModel):\n",
                "    \"\"\"Structured plan of sub-questions (and optional normalized main question).\"\"\"\n",
                "    sub_questions: List[str] = Field(description=\"List of concrete sub-questions (up to the configured maximum)\")\n",
                "\n",
                "# TODO: bind the structured output model to the synthesis LLM\n",
                "_plan_extractor = ...\n",
                "\n",
                "def supervisor_chat(state: SupervisorState, config: RunnableConfig) -> Dict:\n",
                "    previous_messages = state.get(\"supervisor_messages\", [])\n",
                "\n",
                "    max_sub_agents = config.get(\"configurable\", {}).get(\"max_sub_agents\", 4)\n",
                "\n",
                "    chat_system = SystemMessage(\n",
                "        content=(\n",
                "            \"You are the Supervisor research coordinator in PLANNING mode.\\n\"\n",
                "            \"- Co-develop the research plan with the user via clarifying questions.\\n\"\n",
                "            \"- Propose a set of detailed, specific sub-questions that fully decompose the main question.\\n\"\n",
                "            f\"- Respect the configured maximum: cap sub-questions at max_sub_agents={max_sub_agents}.\\n\"\n",
                "            \"- Ensure coverage across: current state, historical context, stakeholders, challenges, solutions, future trends, and edge cases.\\n\"\n",
                "            \"- Each sub-question must be answerable with evidence (not process steps), specific, and non-overlapping.\\n\"\n",
                "            \"- Do NOT draft any report content during planning; focus only on understanding requirements and shaping a comprehensive research plan.\\n\"\n",
                "            \"Quality: Aim for balanced coverage, minimal overlap, and actionable, evidence-focused questions.\"\n",
                "            f\"When proposing or listing sub-questions, you MUST cap the count at max_sub_agents={max_sub_agents} (i.e., return at most {max_sub_agents} distinct, evidence-focused sub-questions). Never exceed this limit.\"\n",
                "    ))\n",
                "\n",
                "    if not previous_messages:\n",
                "        welcome = AIMessage(\n",
                "            content=(\n",
                "                \"Hi! Describe your research question. I'll propose sub-questions and we iterate until you approve.\"\n",
                "            )\n",
                "        )\n",
                "        return {\"supervisor_messages\": [welcome]}\n",
                "\n",
                "    response = synthesis_llm.invoke([chat_system, *previous_messages])\n",
                "    return {\"supervisor_messages\": [response]}\n",
                "\n",
                "\n",
                "def prepare_plan(state: SupervisorState, config: RunnableConfig):\n",
                "    previous_messages = state.get(\"supervisor_messages\", [])\n",
                "\n",
                "    max_sub_agents = config.get(\"configurable\", {}).get(\"max_sub_agents\", 4)\n",
                "\n",
                "    # Node-specific system prompt for plan extraction\n",
                "    instr = SystemMessage(\n",
                "        content=(\n",
                "            \"Extract concrete sub-questions that fully cover the user's main question.\\n\"\n",
                "            \"Constraints:\\n\"\n",
                "            f\"- You MUST enforce max_sub_agents={max_sub_agents} — cap the number of sub-questions at {max_sub_agents}.\\n\"\n",
                "            \"- Avoid generic process steps; return only focused, evidence-answerable research questions.\\n\"\n",
                "            \"- Ensure coverage across: current state, historical context, stakeholders, challenges, solutions, future trends, and edge cases.\\n\"\n",
                "            \"- Reduce overlap and redundancy; prefer specificity and clarity.\\n\"\n",
                "            \"If more than the cap are plausible, prioritize those that maximize coverage and minimize overlap.\"\n",
                "    ))\n",
                "    result = _plan_extractor.invoke([instr, *previous_messages])\n",
                "    subqs = [q.strip(\"- \\n\") for q in (result.sub_questions if result else []) if q and q.strip()]\n",
                "\n",
                "    # Enforce the cap even if the model returns more\n",
                "    subqs = subqs[:max_sub_agents]\n",
                "\n",
                "    # Fallback to previous if extractor fails\n",
                "    if not subqs:\n",
                "        subqs = state.get(\"sub_questions\", [])\n",
                "    announce_list = \"\\n\".join(f\"- {q}\" for q in subqs) or \"(none)\"\n",
                "    preview = AIMessage(content=f\"Planned sub-questions:\\n{announce_list}\")\n",
                "    return {\"sub_questions\": subqs, \"supervisor_messages\": [preview]}\n",
                "\n",
                "# LLM-based main-question extractor with fallback to latest HumanMessage\n",
                "\n",
                "def synthesize_report(state: SupervisorState):\n",
                "    _ensure_dirs()\n",
                "    subreports = state.get(\"sub_reports\", [])\n",
                "\n",
                "    # Node-specific system prompt for synthesis\n",
                "    synthesis_system = SystemMessage(\n",
                "        content=(\n",
                "            \"You are the Supervisor research coordinator in SYNTHESIS mode.\\n\"\n",
                "            \"- Produce an extensive, authoritative final report (target 2500-4000+ words as needed).\\n\"\n",
                "            \"- Synthesize all sub-reports into a cohesive narrative; add executive-level analysis beyond simple combination.\\n\"\n",
                "            \"- Identify cross-cutting themes and insights; provide strategic recommendations based on evidence.\\n\"\n",
                "            \"- Maintain a professional tone and ensure factual consistency. Do NOT include citations or reference markers in the final report.\"\n",
                "        )\n",
                "    )\n",
                "\n",
                "    prompt = (\n",
                "        \"<final_report>\\n\"\n",
                "        \"  <requirements>\\n\"\n",
                "        \"    <detail>Each section should contain multiple paragraphs where applicable. Do not include citations or reference markers (e.g., [1], [source_id]). Write self-contained prose.</detail>\\n\"\n",
                "        \"    <length>Target a comprehensive report; do not be terse.</length>\\n\"\n",
                "        \"    <style>Do not include planning steps, sub-questions, approval prompts, or meta-instructions. Output only the report. Begin with '# Final Report' and use Markdown headings (##, ###). No bold section titles.</style>\\n\"\n",
                "        \"    <limitations> Do not include citations or reference markers. Do not ask the user for clarifications instead of writing the report.</limitations>\\n\"\n",
                "        \"  </requirements>\\n\"\n",
                "        \"  <inputs>Sub-reports are provided below. Integrate, cross-check, and attribute contextually (no explicit citations).</inputs>\\n\"\n",
                "        \"</final_report>\\n\\n\"\n",
                "        \"<sub_reports>\\n\" + (\"\\n\\n\".join(subreports) if subreports else \"No sub-reports available.\") + \"\\n</sub_reports>\"\n",
                "    )\n",
                "    final = synthesis_llm.invoke([synthesis_system, HumanMessage(content=prompt)])\n",
                "    final_text = getattr(final, \"content\", \"\")\n",
                "    fname = OUTPUT_DIR / \"research_report.md\"\n",
                "    with open(fname, \"w\", encoding=\"utf-8\") as f:\n",
                "        f.write(final_text)\n",
                "    return {\"supervisor_messages\": [AIMessage(content=f\"Final report written to {fname}\")]} \n",
                "\n",
                "# Build Supervisor graph\n",
                "supervisor_design_graph = StateGraph(SupervisorState)\n",
                "supervisor_design_graph.add_node(\"chat\", supervisor_chat)\n",
                "supervisor_design_graph.add_node(\"prepare_plan\", prepare_plan)\n",
                "supervisor_design_graph.add_node(\"sub_researcher\", sub_researcher_compiled_graph)\n",
                "supervisor_design_graph.add_node(\"synthesize_report\", synthesize_report)"
            ]
        },
        {
            "cell_type": "markdown",
            "id": "3eaeebbb",
            "metadata": {},
            "source": [
                "### Edges\n",
                "\n",
                "The regular edges are:\n",
                "- `START` -> `supervisor_chat`\n",
                "- `sub_researcher` -> `synthesize_report`\n",
                "- `synthesize_report` -> `END`\n",
                "\n",
                "The conditional edge `propose_or_wait` uses an LLM using `with_structured_output` with the `SupervisorDecision` pydantic class to decide whether to proceed to `prepare_plan` or to `END`, to continue the chat loop with the user, based on whether the user has accepted the proposed research plan.\n",
                "\n",
                "The conditional edge `route_after_plan` uses an LLM using `with_structured_output` with the `PlanAcceptance` pydantic class to decide whether to proceed to `chat` or to `sub_researcher`, based on whether the user has accepted the proposed sub-questions or not. \n",
                "If the user has accepted the plan, it extracts the main questions from the chat messages using the `extract_main_question_llm` function as context for the sub-researchers. It then spawns a `sub_researcher` node for each sub-question using the `Send` action, passing in the sub-question as well as the extracted main question."
            ]
        },
        {
            "cell_type": "code",
            "execution_count": null,
            "id": "7f761c40",
            "metadata": {},
            "outputs": [
                {
                    "data": {
                        "text/plain": [
                            "<langgraph.graph.state.StateGraph at 0x78164817ee40>"
                        ]
                    },
                    "execution_count": 58,
                    "metadata": {},
                    "output_type": "execute_result"
                }
            ],
            "source": [
                "class SupervisorDecision(BaseModel):\n",
                "    \"\"\"Router decision: should we spawn sub-researchers?\"\"\"\n",
                "    action: str = Field(description=\"Decision to take\", pattern=\"^(spawn|wait)$\")\n",
                "\n",
                "_decision_router = synthesis_llm.with_structured_output(SupervisorDecision)\n",
                "\n",
                "class PlanAcceptance(BaseModel):\n",
                "    \"\"\"Whether the user has accepted the proposed plan.\"\"\"\n",
                "    accepted: bool = Field(description=\"True when the user approved proceeding with research\")\n",
                "\n",
                "_accept_judge = synthesis_llm.with_structured_output(PlanAcceptance)\n",
                "\n",
                "class MainQuestion(BaseModel):\n",
                "    \"\"\"Single overarching main question extracted from chat.\"\"\"\n",
                "    main_question: str = Field(description=\"The user's main research question in one sentence\")\n",
                "\n",
                "_main_q_extractor = synthesis_llm.with_structured_output(MainQuestion)\n",
                "\n",
                "def propose_or_wait(state: SupervisorState):\n",
                "    previous_messages = state.get(\"supervisor_messages\", [])\n",
                "    system = SystemMessage(content=(\n",
                "        \"You are a concise decision router. Decide whether the user has approved the plan and is ready to start research.\\n\"\n",
                "        \"Return action='spawn' only if the conversation indicates explicit or implicit approval to proceed. Otherwise return action='wait'.\")\n",
                ")\n",
                "    result = _decision_router.invoke([system, *previous_messages])\n",
                "    action = (result.action if result else \"wait\")\n",
                "    if action == \"spawn\":\n",
                "        return \"prepare_plan\"\n",
                "    return END\n",
                "\n",
                "def extract_main_question_llm(messages: List[BaseMessage]) -> str:\n",
                "    system = SystemMessage(content=(\n",
                "        \"From the conversation, extract the user's single overarching main research question in one sentence.\\n\"\n",
                "        \"If multiple are present, choose the most recent explicit user question.\\n\"\n",
                "        \"Do not include sub-questions, plan items, or meta-instructions. Return an empty string if unclear.\"\n",
                "    ))\n",
                "    try:\n",
                "        result = _main_q_extractor.invoke([system, *messages])\n",
                "        main_q = (result.main_question if result else \"\").strip()\n",
                "    except Exception:\n",
                "        main_q = \"\"\n",
                "    return main_q\n",
                "\n",
                "def route_after_plan(state: SupervisorState, config: Dict):\n",
                "    previous_messages = state.get(\"supervisor_messages\", [])\n",
                "\n",
                "    last_human = None\n",
                "    for m in reversed(previous_messages):\n",
                "        if isinstance(m, HumanMessage):\n",
                "            last_human = m\n",
                "            break\n",
                "    if last_human is None:\n",
                "        return \"chat\"\n",
                "\n",
                "    judge_instr = SystemMessage(content=\"\"\"\n",
                "        Decide if the user has accepted the proposed plan (explicit 'yes', 'approved', or clear consent).\n",
                "        Return accepted=true only when it is reasonable to proceed; otherwise false.\n",
                "        \"\"\",\n",
                "    )\n",
                "    accepted = False\n",
                "    try:\n",
                "        proposal_judgement = _accept_judge.invoke([judge_instr, last_human])\n",
                "        accepted = bool(proposal_judgement.accepted if proposal_judgement else False)\n",
                "    except Exception:\n",
                "        accepted = False\n",
                "\n",
                "    if not accepted:\n",
                "        return \"chat\"\n",
                "\n",
                "    subqs = state.get(\"sub_questions\", [])\n",
                "    if not subqs:\n",
                "        return \"chat\"\n",
                "    max_agents = config.get(\"configurable\", {}).get(\"max_sub_agents\", 4)\n",
                "    subqs = subqs[:max_agents]\n",
                "\n",
                "    main_q = extract_main_question_llm(previous_messages) or \"\"\n",
                "    main_q_context = f\"Main question: {main_q}\\n\" if main_q else \"\"\n",
                "\n",
                "    # TODO: Send each sub-question with the main question context appended.\n",
                "    return [Send(\"sub_researcher\", {\"question\": f\"{main_q_context}Sub-question: {q}\"}) for q in subqs]\n",
                "\n",
                "supervisor_design_graph = StateGraph(SupervisorState)\n",
                "supervisor_design_graph.add_node(\"chat\", supervisor_chat)\n",
                "supervisor_design_graph.add_node(\"prepare_plan\", prepare_plan)\n",
                "supervisor_design_graph.add_node(\"sub_researcher\", sub_researcher_compiled_graph)\n",
                "supervisor_design_graph.add_node(\"synthesize_report\", synthesize_report)\n",
                "\n",
                "supervisor_design_graph.add_edge(START, \"chat\")\n",
                "supervisor_design_graph.add_conditional_edges(\"chat\", propose_or_wait, [\"prepare_plan\", END])\n",
                "supervisor_design_graph.add_conditional_edges(\"prepare_plan\", route_after_plan, [\"chat\", \"sub_researcher\"]) \n",
                "supervisor_design_graph.add_edge(\"sub_researcher\", \"synthesize_report\")\n",
                "supervisor_design_graph.add_edge(\"synthesize_report\", END)"
            ]
        },
        {
            "cell_type": "markdown",
            "id": "c466c2f7",
            "metadata": {},
            "source": [
                "### Compile + Run"
            ]
        },
        {
            "cell_type": "code",
            "execution_count": null,
            "id": "c074e451",
            "metadata": {},
            "outputs": [
                {
                    "data": {
                        "image/png": "[encoded data removed]",
                        "text/plain": [
                            "<IPython.core.display.Image object>"
                        ]
                    },
                    "metadata": {},
                    "output_type": "display_data"
                }
            ],
            "source": [
                "# Compile + run\n",
                "memory = MemorySaver()\n",
                "full_compiled_graph = supervisor_design_graph.compile(checkpointer=memory, interrupt_before=[\"sub_researcher\"])  # approve plan before launching subgraphs\n",
                "\n",
                "try:\n",
                "    from IPython.display import Image, display\n",
                "    display(Image(full_compiled_graph.get_graph(xray=True).draw_mermaid_png())) # xray mode for displaying subgraph\n",
                "except Exception:\n",
                "    print(\"Mermaid rendering failed, trying ascii art\")\n",
                "    print(full_compiled_graph.get_graph(xray=True).print_ascii())"
            ]
        },
        {
            "cell_type": "code",
            "execution_count": null,
            "id": "d7d37e42",
            "metadata": {},
            "outputs": [
                {
                    "data": {
                        "text/html": [
                            "<pre style=\"white-space:pre;overflow-x:auto;line-height:normal;font-family:Menlo,'DejaVu Sans Mono',consolas,'Courier New',monospace\"><span style=\"color: #008000; text-decoration-color: #008000\">╭───────────────────────────────────────────────── 🤖 Assistant ──────────────────────────────────────────────────╮</span>\n",
                            "<span style=\"color: #008000; text-decoration-color: #008000\">│</span> Hi! Describe your research question. I'll propose sub-questions and we iterate until you approve.               <span style=\"color: #008000; text-decoration-color: #008000\">│</span>\n",
                            "<span style=\"color: #008000; text-decoration-color: #008000\">╰─────────────────────────────────────────────────────────────────────────────────────────────────────────────────╯</span>\n",
                            "</pre>\n"
                        ],
                        "text/plain": [
                            "\u001b[32m╭─\u001b[0m\u001b[32m────────────────────────────────────────────────\u001b[0m\u001b[32m 🤖 Assistant \u001b[0m\u001b[32m─────────────────────────────────────────────────\u001b[0m\u001b[32m─╮\u001b[0m\n",
                            "\u001b[32m│\u001b[0m Hi! Describe your research question. I'll propose sub-questions and we iterate until you approve.               \u001b[32m│\u001b[0m\n",
                            "\u001b[32m╰─────────────────────────────────────────────────────────────────────────────────────────────────────────────────╯\u001b[0m\n"
                        ]
                    },
                    "metadata": {},
                    "output_type": "display_data"
                },
                {
                    "data": {
                        "text/html": [
                            "<pre style=\"white-space:pre;overflow-x:auto;line-height:normal;font-family:Menlo,'DejaVu Sans Mono',consolas,'Courier New',monospace\"><span style=\"color: #000080; text-decoration-color: #000080\">╭─────────────────────────────────────────────────── 👤 Human ────────────────────────────────────────────────────╮</span>\n",
                            "<span style=\"color: #000080; text-decoration-color: #000080\">│</span> What's deep learning?                                                                                           <span style=\"color: #000080; text-decoration-color: #000080\">│</span>\n",
                            "<span style=\"color: #000080; text-decoration-color: #000080\">╰─────────────────────────────────────────────────────────────────────────────────────────────────────────────────╯</span>\n",
                            "</pre>\n"
                        ],
                        "text/plain": [
                            "\u001b[34m╭─\u001b[0m\u001b[34m──────────────────────────────────────────────────\u001b[0m\u001b[34m 👤 Human \u001b[0m\u001b[34m───────────────────────────────────────────────────\u001b[0m\u001b[34m─╮\u001b[0m\n",
                            "\u001b[34m│\u001b[0m What's deep learning?                                                                                           \u001b[34m│\u001b[0m\n",
                            "\u001b[34m╰─────────────────────────────────────────────────────────────────────────────────────────────────────────────────╯\u001b[0m\n"
                        ]
                    },
                    "metadata": {},
                    "output_type": "display_data"
                },
                {
                    "data": {
                        "text/html": [
                            "<pre style=\"white-space:pre;overflow-x:auto;line-height:normal;font-family:Menlo,'DejaVu Sans Mono',consolas,'Courier New',monospace\"><span style=\"color: #008000; text-decoration-color: #008000\">╭───────────────────────────────────────────────── 🤖 Assistant ──────────────────────────────────────────────────╮</span>\n",
                            "<span style=\"color: #008000; text-decoration-color: #008000\">│</span> Thank you for your question! To ensure a thorough and actionable research plan, could you clarify your intended <span style=\"color: #008000; text-decoration-color: #008000\">│</span>\n",
                            "<span style=\"color: #008000; text-decoration-color: #008000\">│</span> audience (e.g., technical experts, general public, students) and your main goal (e.g., overview, applications,  <span style=\"color: #008000; text-decoration-color: #008000\">│</span>\n",
                            "<span style=\"color: #008000; text-decoration-color: #008000\">│</span> technical mechanisms, ethical concerns)? This will help tailor the sub-questions.                               <span style=\"color: #008000; text-decoration-color: #008000\">│</span>\n",
                            "<span style=\"color: #008000; text-decoration-color: #008000\">│</span>                                                                                                                 <span style=\"color: #008000; text-decoration-color: #008000\">│</span>\n",
                            "<span style=\"color: #008000; text-decoration-color: #008000\">│</span> For now, here’s a draft set of sub-questions (capped at 6) that comprehensively address “What’s deep learning?” <span style=\"color: #008000; text-decoration-color: #008000\">│</span>\n",
                            "<span style=\"color: #008000; text-decoration-color: #008000\">│</span> across key dimensions:                                                                                          <span style=\"color: #008000; text-decoration-color: #008000\">│</span>\n",
                            "<span style=\"color: #008000; text-decoration-color: #008000\">│</span>                                                                                                                 <span style=\"color: #008000; text-decoration-color: #008000\">│</span>\n",
                            "<span style=\"color: #008000; text-decoration-color: #008000\">│</span> 1. What are the fundamental principles and defining characteristics of deep learning, and how does it differ    <span style=\"color: #008000; text-decoration-color: #008000\">│</span>\n",
                            "<span style=\"color: #008000; text-decoration-color: #008000\">│</span> from traditional machine learning approaches?                                                                   <span style=\"color: #008000; text-decoration-color: #008000\">│</span>\n",
                            "<span style=\"color: #008000; text-decoration-color: #008000\">│</span> 2. How did deep learning evolve historically, and what were the major milestones and breakthroughs that enabled <span style=\"color: #008000; text-decoration-color: #008000\">│</span>\n",
                            "<span style=\"color: #008000; text-decoration-color: #008000\">│</span> its current prominence?                                                                                         <span style=\"color: #008000; text-decoration-color: #008000\">│</span>\n",
                            "<span style=\"color: #008000; text-decoration-color: #008000\">│</span> 3. What are the primary architectures and algorithms used in deep learning, and what evidence supports their    <span style=\"color: #008000; text-decoration-color: #008000\">│</span>\n",
                            "<span style=\"color: #008000; text-decoration-color: #008000\">│</span> effectiveness in various domains?                                                                               <span style=\"color: #008000; text-decoration-color: #008000\">│</span>\n",
                            "<span style=\"color: #008000; text-decoration-color: #008000\">│</span> 4. Who are the main stakeholders involved in the development, deployment, and regulation of deep learning       <span style=\"color: #008000; text-decoration-color: #008000\">│</span>\n",
                            "<span style=\"color: #008000; text-decoration-color: #008000\">│</span> technologies?                                                                                                   <span style=\"color: #008000; text-decoration-color: #008000\">│</span>\n",
                            "<span style=\"color: #008000; text-decoration-color: #008000\">│</span> 5. What are the key challenges and limitations currently faced by deep learning, as evidenced by recent         <span style=\"color: #008000; text-decoration-color: #008000\">│</span>\n",
                            "<span style=\"color: #008000; text-decoration-color: #008000\">│</span> research and real-world deployments?                                                                            <span style=\"color: #008000; text-decoration-color: #008000\">│</span>\n",
                            "<span style=\"color: #008000; text-decoration-color: #008000\">│</span> 6. What emerging trends and future directions are anticipated for deep learning, based on current research and  <span style=\"color: #008000; text-decoration-color: #008000\">│</span>\n",
                            "<span style=\"color: #008000; text-decoration-color: #008000\">│</span> expert forecasts?                                                                                               <span style=\"color: #008000; text-decoration-color: #008000\">│</span>\n",
                            "<span style=\"color: #008000; text-decoration-color: #008000\">│</span>                                                                                                                 <span style=\"color: #008000; text-decoration-color: #008000\">│</span>\n",
                            "<span style=\"color: #008000; text-decoration-color: #008000\">│</span> Please let me know if you’d like to adjust the focus, add or remove any areas, or specify your audience or      <span style=\"color: #008000; text-decoration-color: #008000\">│</span>\n",
                            "<span style=\"color: #008000; text-decoration-color: #008000\">│</span> application context!                                                                                            <span style=\"color: #008000; text-decoration-color: #008000\">│</span>\n",
                            "<span style=\"color: #008000; text-decoration-color: #008000\">╰─────────────────────────────────────────────────────────────────────────────────────────────────────────────────╯</span>\n",
                            "</pre>\n"
                        ],
                        "text/plain": [
                            "\u001b[32m╭─\u001b[0m\u001b[32m────────────────────────────────────────────────\u001b[0m\u001b[32m 🤖 Assistant \u001b[0m\u001b[32m─────────────────────────────────────────────────\u001b[0m\u001b[32m─╮\u001b[0m\n",
                            "\u001b[32m│\u001b[0m Thank you for your question! To ensure a thorough and actionable research plan, could you clarify your intended \u001b[32m│\u001b[0m\n",
                            "\u001b[32m│\u001b[0m audience (e.g., technical experts, general public, students) and your main goal (e.g., overview, applications,  \u001b[32m│\u001b[0m\n",
                            "\u001b[32m│\u001b[0m technical mechanisms, ethical concerns)? This will help tailor the sub-questions.                               \u001b[32m│\u001b[0m\n",
                            "\u001b[32m│\u001b[0m                                                                                                                 \u001b[32m│\u001b[0m\n",
                            "\u001b[32m│\u001b[0m For now, here’s a draft set of sub-questions (capped at 6) that comprehensively address “What’s deep learning?” \u001b[32m│\u001b[0m\n",
                            "\u001b[32m│\u001b[0m across key dimensions:                                                                                          \u001b[32m│\u001b[0m\n",
                            "\u001b[32m│\u001b[0m                                                                                                                 \u001b[32m│\u001b[0m\n",
                            "\u001b[32m│\u001b[0m 1. What are the fundamental principles and defining characteristics of deep learning, and how does it differ    \u001b[32m│\u001b[0m\n",
                            "\u001b[32m│\u001b[0m from traditional machine learning approaches?                                                                   \u001b[32m│\u001b[0m\n",
                            "\u001b[32m│\u001b[0m 2. How did deep learning evolve historically, and what were the major milestones and breakthroughs that enabled \u001b[32m│\u001b[0m\n",
                            "\u001b[32m│\u001b[0m its current prominence?                                                                                         \u001b[32m│\u001b[0m\n",
                            "\u001b[32m│\u001b[0m 3. What are the primary architectures and algorithms used in deep learning, and what evidence supports their    \u001b[32m│\u001b[0m\n",
                            "\u001b[32m│\u001b[0m effectiveness in various domains?                                                                               \u001b[32m│\u001b[0m\n",
                            "\u001b[32m│\u001b[0m 4. Who are the main stakeholders involved in the development, deployment, and regulation of deep learning       \u001b[32m│\u001b[0m\n",
                            "\u001b[32m│\u001b[0m technologies?                                                                                                   \u001b[32m│\u001b[0m\n",
                            "\u001b[32m│\u001b[0m 5. What are the key challenges and limitations currently faced by deep learning, as evidenced by recent         \u001b[32m│\u001b[0m\n",
                            "\u001b[32m│\u001b[0m research and real-world deployments?                                                                            \u001b[32m│\u001b[0m\n",
                            "\u001b[32m│\u001b[0m 6. What emerging trends and future directions are anticipated for deep learning, based on current research and  \u001b[32m│\u001b[0m\n",
                            "\u001b[32m│\u001b[0m expert forecasts?                                                                                               \u001b[32m│\u001b[0m\n",
                            "\u001b[32m│\u001b[0m                                                                                                                 \u001b[32m│\u001b[0m\n",
                            "\u001b[32m│\u001b[0m Please let me know if you’d like to adjust the focus, add or remove any areas, or specify your audience or      \u001b[32m│\u001b[0m\n",
                            "\u001b[32m│\u001b[0m application context!                                                                                            \u001b[32m│\u001b[0m\n",
                            "\u001b[32m╰─────────────────────────────────────────────────────────────────────────────────────────────────────────────────╯\u001b[0m\n"
                        ]
                    },
                    "metadata": {},
                    "output_type": "display_data"
                },
                {
                    "data": {
                        "text/html": [
                            "<pre style=\"white-space:pre;overflow-x:auto;line-height:normal;font-family:Menlo,'DejaVu Sans Mono',consolas,'Courier New',monospace\"><span style=\"color: #000080; text-decoration-color: #000080\">╭─────────────────────────────────────────────────── 👤 Human ────────────────────────────────────────────────────╮</span>\n",
                            "<span style=\"color: #000080; text-decoration-color: #000080\">│</span> No looks good but make only 3 sub research topics                                                               <span style=\"color: #000080; text-decoration-color: #000080\">│</span>\n",
                            "<span style=\"color: #000080; text-decoration-color: #000080\">╰─────────────────────────────────────────────────────────────────────────────────────────────────────────────────╯</span>\n",
                            "</pre>\n"
                        ],
                        "text/plain": [
                            "\u001b[34m╭─\u001b[0m\u001b[34m──────────────────────────────────────────────────\u001b[0m\u001b[34m 👤 Human \u001b[0m\u001b[34m───────────────────────────────────────────────────\u001b[0m\u001b[34m─╮\u001b[0m\n",
                            "\u001b[34m│\u001b[0m No looks good but make only 3 sub research topics                                                               \u001b[34m│\u001b[0m\n",
                            "\u001b[34m╰─────────────────────────────────────────────────────────────────────────────────────────────────────────────────╯\u001b[0m\n"
                        ]
                    },
                    "metadata": {},
                    "output_type": "display_data"
                },
                {
                    "data": {
                        "text/html": [
                            "<pre style=\"white-space:pre;overflow-x:auto;line-height:normal;font-family:Menlo,'DejaVu Sans Mono',consolas,'Courier New',monospace\"><span style=\"color: #008000; text-decoration-color: #008000\">╭───────────────────────────────────────────────── 🤖 Assistant ──────────────────────────────────────────────────╮</span>\n",
                            "<span style=\"color: #008000; text-decoration-color: #008000\">│</span> Great, thank you for the feedback! Here’s a revised research plan with only 3 focused, evidence-based           <span style=\"color: #008000; text-decoration-color: #008000\">│</span>\n",
                            "<span style=\"color: #008000; text-decoration-color: #008000\">│</span> sub-questions:                                                                                                  <span style=\"color: #008000; text-decoration-color: #008000\">│</span>\n",
                            "<span style=\"color: #008000; text-decoration-color: #008000\">│</span>                                                                                                                 <span style=\"color: #008000; text-decoration-color: #008000\">│</span>\n",
                            "<span style=\"color: #008000; text-decoration-color: #008000\">│</span> 1. What are the core principles and defining features of deep learning, and how does it differ from traditional <span style=\"color: #008000; text-decoration-color: #008000\">│</span>\n",
                            "<span style=\"color: #008000; text-decoration-color: #008000\">│</span> machine learning methods?                                                                                       <span style=\"color: #008000; text-decoration-color: #008000\">│</span>\n",
                            "<span style=\"color: #008000; text-decoration-color: #008000\">│</span> 2. What have been the most significant historical milestones and breakthroughs that contributed to the          <span style=\"color: #008000; text-decoration-color: #008000\">│</span>\n",
                            "<span style=\"color: #008000; text-decoration-color: #008000\">│</span> development and widespread adoption of deep learning?                                                           <span style=\"color: #008000; text-decoration-color: #008000\">│</span>\n",
                            "<span style=\"color: #008000; text-decoration-color: #008000\">│</span> 3. What are the main current challenges and limitations of deep learning, as demonstrated by recent research    <span style=\"color: #008000; text-decoration-color: #008000\">│</span>\n",
                            "<span style=\"color: #008000; text-decoration-color: #008000\">│</span> and real-world applications?                                                                                    <span style=\"color: #008000; text-decoration-color: #008000\">│</span>\n",
                            "<span style=\"color: #008000; text-decoration-color: #008000\">│</span>                                                                                                                 <span style=\"color: #008000; text-decoration-color: #008000\">│</span>\n",
                            "<span style=\"color: #008000; text-decoration-color: #008000\">│</span> Please confirm if this set meets your needs or if you’d like to adjust the focus further.                       <span style=\"color: #008000; text-decoration-color: #008000\">│</span>\n",
                            "<span style=\"color: #008000; text-decoration-color: #008000\">╰─────────────────────────────────────────────────────────────────────────────────────────────────────────────────╯</span>\n",
                            "</pre>\n"
                        ],
                        "text/plain": [
                            "\u001b[32m╭─\u001b[0m\u001b[32m────────────────────────────────────────────────\u001b[0m\u001b[32m 🤖 Assistant \u001b[0m\u001b[32m─────────────────────────────────────────────────\u001b[0m\u001b[32m─╮\u001b[0m\n",
                            "\u001b[32m│\u001b[0m Great, thank you for the feedback! Here’s a revised research plan with only 3 focused, evidence-based           \u001b[32m│\u001b[0m\n",
                            "\u001b[32m│\u001b[0m sub-questions:                                                                                                  \u001b[32m│\u001b[0m\n",
                            "\u001b[32m│\u001b[0m                                                                                                                 \u001b[32m│\u001b[0m\n",
                            "\u001b[32m│\u001b[0m 1. What are the core principles and defining features of deep learning, and how does it differ from traditional \u001b[32m│\u001b[0m\n",
                            "\u001b[32m│\u001b[0m machine learning methods?                                                                                       \u001b[32m│\u001b[0m\n",
                            "\u001b[32m│\u001b[0m 2. What have been the most significant historical milestones and breakthroughs that contributed to the          \u001b[32m│\u001b[0m\n",
                            "\u001b[32m│\u001b[0m development and widespread adoption of deep learning?                                                           \u001b[32m│\u001b[0m\n",
                            "\u001b[32m│\u001b[0m 3. What are the main current challenges and limitations of deep learning, as demonstrated by recent research    \u001b[32m│\u001b[0m\n",
                            "\u001b[32m│\u001b[0m and real-world applications?                                                                                    \u001b[32m│\u001b[0m\n",
                            "\u001b[32m│\u001b[0m                                                                                                                 \u001b[32m│\u001b[0m\n",
                            "\u001b[32m│\u001b[0m Please confirm if this set meets your needs or if you’d like to adjust the focus further.                       \u001b[32m│\u001b[0m\n",
                            "\u001b[32m╰─────────────────────────────────────────────────────────────────────────────────────────────────────────────────╯\u001b[0m\n"
                        ]
                    },
                    "metadata": {},
                    "output_type": "display_data"
                },
                {
                    "data": {
                        "text/html": [
                            "<pre style=\"white-space:pre;overflow-x:auto;line-height:normal;font-family:Menlo,'DejaVu Sans Mono',consolas,'Courier New',monospace\"><span style=\"color: #000080; text-decoration-color: #000080\">╭─────────────────────────────────────────────────── 👤 Human ────────────────────────────────────────────────────╮</span>\n",
                            "<span style=\"color: #000080; text-decoration-color: #000080\">│</span> yyes                                                                                                            <span style=\"color: #000080; text-decoration-color: #000080\">│</span>\n",
                            "<span style=\"color: #000080; text-decoration-color: #000080\">╰─────────────────────────────────────────────────────────────────────────────────────────────────────────────────╯</span>\n",
                            "</pre>\n"
                        ],
                        "text/plain": [
                            "\u001b[34m╭─\u001b[0m\u001b[34m──────────────────────────────────────────────────\u001b[0m\u001b[34m 👤 Human \u001b[0m\u001b[34m───────────────────────────────────────────────────\u001b[0m\u001b[34m─╮\u001b[0m\n",
                            "\u001b[34m│\u001b[0m yyes                                                                                                            \u001b[34m│\u001b[0m\n",
                            "\u001b[34m╰─────────────────────────────────────────────────────────────────────────────────────────────────────────────────╯\u001b[0m\n"
                        ]
                    },
                    "metadata": {},
                    "output_type": "display_data"
                },
                {
                    "data": {
                        "text/html": [
                            "<pre style=\"white-space:pre;overflow-x:auto;line-height:normal;font-family:Menlo,'DejaVu Sans Mono',consolas,'Courier New',monospace\"><span style=\"color: #008000; text-decoration-color: #008000\">╭───────────────────────────────────────────────── 🤖 Assistant ──────────────────────────────────────────────────╮</span>\n",
                            "<span style=\"color: #008000; text-decoration-color: #008000\">│</span> Thank you for confirming! Your research plan will proceed with the following three sub-questions:               <span style=\"color: #008000; text-decoration-color: #008000\">│</span>\n",
                            "<span style=\"color: #008000; text-decoration-color: #008000\">│</span>                                                                                                                 <span style=\"color: #008000; text-decoration-color: #008000\">│</span>\n",
                            "<span style=\"color: #008000; text-decoration-color: #008000\">│</span> 1. What are the core principles and defining features of deep learning, and how does it differ from traditional <span style=\"color: #008000; text-decoration-color: #008000\">│</span>\n",
                            "<span style=\"color: #008000; text-decoration-color: #008000\">│</span> machine learning methods?                                                                                       <span style=\"color: #008000; text-decoration-color: #008000\">│</span>\n",
                            "<span style=\"color: #008000; text-decoration-color: #008000\">│</span> 2. What have been the most significant historical milestones and breakthroughs that contributed to the          <span style=\"color: #008000; text-decoration-color: #008000\">│</span>\n",
                            "<span style=\"color: #008000; text-decoration-color: #008000\">│</span> development and widespread adoption of deep learning?                                                           <span style=\"color: #008000; text-decoration-color: #008000\">│</span>\n",
                            "<span style=\"color: #008000; text-decoration-color: #008000\">│</span> 3. What are the main current challenges and limitations of deep learning, as demonstrated by recent research    <span style=\"color: #008000; text-decoration-color: #008000\">│</span>\n",
                            "<span style=\"color: #008000; text-decoration-color: #008000\">│</span> and real-world applications?                                                                                    <span style=\"color: #008000; text-decoration-color: #008000\">│</span>\n",
                            "<span style=\"color: #008000; text-decoration-color: #008000\">│</span>                                                                                                                 <span style=\"color: #008000; text-decoration-color: #008000\">│</span>\n",
                            "<span style=\"color: #008000; text-decoration-color: #008000\">│</span> If you have any additional preferences or requirements, please let me know before we move to the next phase.    <span style=\"color: #008000; text-decoration-color: #008000\">│</span>\n",
                            "<span style=\"color: #008000; text-decoration-color: #008000\">╰─────────────────────────────────────────────────────────────────────────────────────────────────────────────────╯</span>\n",
                            "</pre>\n"
                        ],
                        "text/plain": [
                            "\u001b[32m╭─\u001b[0m\u001b[32m────────────────────────────────────────────────\u001b[0m\u001b[32m 🤖 Assistant \u001b[0m\u001b[32m─────────────────────────────────────────────────\u001b[0m\u001b[32m─╮\u001b[0m\n",
                            "\u001b[32m│\u001b[0m Thank you for confirming! Your research plan will proceed with the following three sub-questions:               \u001b[32m│\u001b[0m\n",
                            "\u001b[32m│\u001b[0m                                                                                                                 \u001b[32m│\u001b[0m\n",
                            "\u001b[32m│\u001b[0m 1. What are the core principles and defining features of deep learning, and how does it differ from traditional \u001b[32m│\u001b[0m\n",
                            "\u001b[32m│\u001b[0m machine learning methods?                                                                                       \u001b[32m│\u001b[0m\n",
                            "\u001b[32m│\u001b[0m 2. What have been the most significant historical milestones and breakthroughs that contributed to the          \u001b[32m│\u001b[0m\n",
                            "\u001b[32m│\u001b[0m development and widespread adoption of deep learning?                                                           \u001b[32m│\u001b[0m\n",
                            "\u001b[32m│\u001b[0m 3. What are the main current challenges and limitations of deep learning, as demonstrated by recent research    \u001b[32m│\u001b[0m\n",
                            "\u001b[32m│\u001b[0m and real-world applications?                                                                                    \u001b[32m│\u001b[0m\n",
                            "\u001b[32m│\u001b[0m                                                                                                                 \u001b[32m│\u001b[0m\n",
                            "\u001b[32m│\u001b[0m If you have any additional preferences or requirements, please let me know before we move to the next phase.    \u001b[32m│\u001b[0m\n",
                            "\u001b[32m╰─────────────────────────────────────────────────────────────────────────────────────────────────────────────────╯\u001b[0m\n"
                        ]
                    },
                    "metadata": {},
                    "output_type": "display_data"
                },
                {
                    "data": {
                        "text/html": [
                            "<pre style=\"white-space:pre;overflow-x:auto;line-height:normal;font-family:Menlo,'DejaVu Sans Mono',consolas,'Courier New',monospace\"><span style=\"color: #008000; text-decoration-color: #008000\">╭───────────────────────────────────────────────── 🤖 Assistant ──────────────────────────────────────────────────╮</span>\n",
                            "<span style=\"color: #008000; text-decoration-color: #008000\">│</span> Planned sub-questions:                                                                                          <span style=\"color: #008000; text-decoration-color: #008000\">│</span>\n",
                            "<span style=\"color: #008000; text-decoration-color: #008000\">│</span> - What are the core principles and defining features of deep learning, and how does it differ from traditional  <span style=\"color: #008000; text-decoration-color: #008000\">│</span>\n",
                            "<span style=\"color: #008000; text-decoration-color: #008000\">│</span> machine learning methods?                                                                                       <span style=\"color: #008000; text-decoration-color: #008000\">│</span>\n",
                            "<span style=\"color: #008000; text-decoration-color: #008000\">│</span> - What have been the most significant historical milestones and breakthroughs that contributed to the           <span style=\"color: #008000; text-decoration-color: #008000\">│</span>\n",
                            "<span style=\"color: #008000; text-decoration-color: #008000\">│</span> development and widespread adoption of deep learning?                                                           <span style=\"color: #008000; text-decoration-color: #008000\">│</span>\n",
                            "<span style=\"color: #008000; text-decoration-color: #008000\">│</span> - What are the main current challenges and limitations of deep learning, as demonstrated by recent research and <span style=\"color: #008000; text-decoration-color: #008000\">│</span>\n",
                            "<span style=\"color: #008000; text-decoration-color: #008000\">│</span> real-world applications?                                                                                        <span style=\"color: #008000; text-decoration-color: #008000\">│</span>\n",
                            "<span style=\"color: #008000; text-decoration-color: #008000\">╰─────────────────────────────────────────────────────────────────────────────────────────────────────────────────╯</span>\n",
                            "</pre>\n"
                        ],
                        "text/plain": [
                            "\u001b[32m╭─\u001b[0m\u001b[32m────────────────────────────────────────────────\u001b[0m\u001b[32m 🤖 Assistant \u001b[0m\u001b[32m─────────────────────────────────────────────────\u001b[0m\u001b[32m─╮\u001b[0m\n",
                            "\u001b[32m│\u001b[0m Planned sub-questions:                                                                                          \u001b[32m│\u001b[0m\n",
                            "\u001b[32m│\u001b[0m - What are the core principles and defining features of deep learning, and how does it differ from traditional  \u001b[32m│\u001b[0m\n",
                            "\u001b[32m│\u001b[0m machine learning methods?                                                                                       \u001b[32m│\u001b[0m\n",
                            "\u001b[32m│\u001b[0m - What have been the most significant historical milestones and breakthroughs that contributed to the           \u001b[32m│\u001b[0m\n",
                            "\u001b[32m│\u001b[0m development and widespread adoption of deep learning?                                                           \u001b[32m│\u001b[0m\n",
                            "\u001b[32m│\u001b[0m - What are the main current challenges and limitations of deep learning, as demonstrated by recent research and \u001b[32m│\u001b[0m\n",
                            "\u001b[32m│\u001b[0m real-world applications?                                                                                        \u001b[32m│\u001b[0m\n",
                            "\u001b[32m╰─────────────────────────────────────────────────────────────────────────────────────────────────────────────────╯\u001b[0m\n"
                        ]
                    },
                    "metadata": {},
                    "output_type": "display_data"
                },
                {
                    "data": {
                        "text/html": [
                            "<pre style=\"white-space:pre;overflow-x:auto;line-height:normal;font-family:Menlo,'DejaVu Sans Mono',consolas,'Courier New',monospace\"><span style=\"color: #008000; text-decoration-color: #008000\">╭───────────────────────────────────────────────── 🤖 Assistant ──────────────────────────────────────────────────╮</span>\n",
                            "<span style=\"color: #008000; text-decoration-color: #008000\">│</span> Final report written to research_output/research_report.md                                                      <span style=\"color: #008000; text-decoration-color: #008000\">│</span>\n",
                            "<span style=\"color: #008000; text-decoration-color: #008000\">╰─────────────────────────────────────────────────────────────────────────────────────────────────────────────────╯</span>\n",
                            "</pre>\n"
                        ],
                        "text/plain": [
                            "\u001b[32m╭─\u001b[0m\u001b[32m────────────────────────────────────────────────\u001b[0m\u001b[32m 🤖 Assistant \u001b[0m\u001b[32m─────────────────────────────────────────────────\u001b[0m\u001b[32m─╮\u001b[0m\n",
                            "\u001b[32m│\u001b[0m Final report written to research_output/research_report.md                                                      \u001b[32m│\u001b[0m\n",
                            "\u001b[32m╰─────────────────────────────────────────────────────────────────────────────────────────────────────────────────╯\u001b[0m\n"
                        ]
                    },
                    "metadata": {},
                    "output_type": "display_data"
                }
            ],
            "source": [
                "# Minimal interactive loop\n",
                "config = {\"configurable\": {\"thread_id\": \"deepresearch_session_1\", \"max_sub_agents\": 6, \"max_sub_iterations\": 4}}\n",
                "_printed = set()\n",
                "\n",
                "# Kick off with empty messages\n",
                "initial = full_compiled_graph.invoke({\"supervisor_messages\": [], \"sub_questions\": [], \"sub_reports\": []}, config)\n",
                "_print_messages_from_state(initial, _printed, messages_key=\"supervisor_messages\")\n",
                "\n",
                "while True:\n",
                "    user = input(\"\\nYou: \")\n",
                "    if user.lower() in {\"q\", \"quit\", \"exit\"}:\n",
                "        await manager.stop_all()\n",
                "        break\n",
                "    for event in full_compiled_graph.stream({\"supervisor_messages\": [HumanMessage(content=user)]}, config, stream_mode=\"values\"):\n",
                "        _print_messages_from_stream_event(event, _printed, messages_key=\"supervisor_messages\")\n",
                "    snapshot = full_compiled_graph.get_state(config)\n",
                "    # Human gate: approve before launching sub-researchers\n",
                "    while snapshot.next and snapshot.next[0] == \"sub_researcher\":\n",
                "        ans = input(\"Approve the plan and launch sub-researchers? (y/N): \")\n",
                "        if ans.strip().lower().startswith(\"y\"):\n",
                "            result = await full_compiled_graph.ainvoke(None, config)\n",
                "            _print_messages_from_state(result, _printed, messages_key=\"supervisor_messages\")\n",
                "        else:\n",
                "            denial = full_compiled_graph.invoke({\"supervisor_messages\": [HumanMessage(content=\"Not approved; please revise the sub-questions.\")]}, config)\n",
                "            _print_messages_from_state(denial, _printed, messages_key=\"supervisor_messages\")\n",
                "        snapshot = full_compiled_graph.get_state(config)"
            ]
        }
    ],
    "metadata": {
        "kernelspec": {
            "display_name": "base",
            "language": "python",
            "name": "python3"
        },
        "language_info": {
            "codemirror_mode": {
                "name": "ipython",
                "version": 3
            },
            "file_extension": ".py",
            "mimetype": "text/x-python",
            "name": "python",
            "nbconvert_exporter": "python",
            "pygments_lexer": "ipython3",
            "version": "3.12.2"
        }
    },
    "nbformat": 4,
    "nbformat_minor": 5
}
